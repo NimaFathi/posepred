{
 "cells": [
  {
   "cell_type": "code",
   "execution_count": null,
   "metadata": {},
   "outputs": [],
   "source": [
    "%load_ext autoreload\n",
    "%autoreload 2\n",
    "\n",
    "import sys\n",
    "sys.path.append(\"../\")"
   ]
  },
  {
   "cell_type": "code",
   "execution_count": null,
   "metadata": {},
   "outputs": [],
   "source": [
    "dataset_path = '/home/helium/Desktop/VITA/posepred/preprocessed_data/stanford36m/validation_total_stanford3.6m.jsonl'\n",
    "len_observed = 50\n",
    "len_future = 25"
   ]
  },
  {
   "cell_type": "code",
   "execution_count": null,
   "metadata": {},
   "outputs": [],
   "source": [
    "from data_loader.random_crop_dataset import RandomCropDataset\n",
    "\n",
    "dataset = RandomCropDataset(\n",
    "    dataset_path=dataset_path,\n",
    "    keypoint_dim=3,\n",
    "    use_mask=False,\n",
    "    is_visualizing=False,\n",
    "    model_pose_format='xyz',\n",
    "    metric_pose_format='xyz',\n",
    "    normalize=False,\n",
    "    metadata_path='',\n",
    "    seq_rate=1,\n",
    "    frame_rate=2,\n",
    "    len_observed=len_observed,\n",
    "    len_future=len_future,\n",
    "    is_testing=False,\n",
    "    is_h36_testing=False\n",
    ")"
   ]
  },
  {
   "cell_type": "code",
   "execution_count": null,
   "metadata": {},
   "outputs": [],
   "source": [
    "import torch\n",
    "import numpy as np\n",
    "from models.st_transformer.CSDI import CSDI_Reconstruction_H36M as MODEL\n",
    "from torch.utils.data import DataLoader\n",
    "from tqdm.notebook import tqdm\n",
    "from models.st_transformer.st_transformer_loss import STTransformerLoss\n",
    "\n",
    "device = 'cuda'\n",
    "\n",
    "def load_snapshot(snapshot_path, MODEL):\n",
    "    snapshot = torch.load(snapshot_path, map_location='cpu')\n",
    "    model = MODEL(snapshot['model_args'])\n",
    "    model.load_state_dict(snapshot['model_state_dict'])\n",
    "    model = model.to(device)\n",
    "    return model\n",
    "\n",
    "def dict_to_device(src, device='cuda'):\n",
    "    out = dict()\n",
    "    for key, value in src.items():\n",
    "        if isinstance(value, torch.Tensor):\n",
    "            out[key] = value.clone().to(device)\n",
    "        else:\n",
    "            out[key] = value\n",
    "    return out"
   ]
  },
  {
   "cell_type": "code",
   "execution_count": null,
   "metadata": {},
   "outputs": [],
   "source": [
    "\n",
    "\n",
    "model_path = '/home/helium/Desktop/VITA/posepred/outputs/reconstruct/reconstruction_rate1_obs50_pred25_epoch15.pt'\n",
    "model = load_snapshot(model_path, MODEL)\n",
    "model.eval()\n",
    "\n",
    "batch_size=4\n",
    "dataloader = DataLoader(dataset, batch_size=batch_size, shuffle=True)\n",
    "lossFunction = STTransformerLoss(None)\n",
    "\n",
    "total_loss = 0\n",
    "sz = 0\n",
    "\n",
    "for batch in tqdm(dataloader):\n",
    "    batch = dict_to_device(batch)\n",
    "    \n",
    "    model_output = model(batch)\n",
    "    \n",
    "    loss = lossFunction(model_output, batch)\n",
    "    \n",
    "    total_loss += batch['future_pose'].shape[0] * loss['loss'].cpu().item()\n",
    "    sz += batch['future_pose'].shape[0]\n",
    "    \n",
    "    print(\"{:.2f}\".format(total_loss / sz), end='\\r')\n",
    "    \n",
    "    "
   ]
  },
  {
   "cell_type": "code",
   "execution_count": null,
   "metadata": {},
   "outputs": [],
   "source": []
  }
 ],
 "metadata": {
  "interpreter": {
   "hash": "5f871825387a5981688ffc428f98437f523e564372978bfa8041aae70528882a"
  },
  "kernelspec": {
   "display_name": "Python 3.8.10 ('venv': venv)",
   "language": "python",
   "name": "python3"
  },
  "language_info": {
   "codemirror_mode": {
    "name": "ipython",
    "version": 3
   },
   "file_extension": ".py",
   "mimetype": "text/x-python",
   "name": "python",
   "nbconvert_exporter": "python",
   "pygments_lexer": "ipython3",
   "version": "3.8.10"
  },
  "orig_nbformat": 4
 },
 "nbformat": 4,
 "nbformat_minor": 2
}
